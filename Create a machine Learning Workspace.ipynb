{
 "cells": [
  {
   "cell_type": "markdown",
   "metadata": {},
   "source": [
    "###### Create a workspace by using Python SDK. Skip the installation of SDK if you use an Azure Data Science Virtual Machine"
   ]
  },
  {
   "cell_type": "markdown",
   "metadata": {},
   "source": [
    "### What is Workspace?\n",
    "#### A workspace is the top-level resource for the Azure Machine Learning service. It serves as a hub for building and deploying models. You can create a workspace in the Azure portal, or you can create and access it by using Python on an IDE of your choice\n",
    "\n",
    "#### All models must be registered in the workspace for future use. Together with the scoring script, you create an image for deployment."
   ]
  },
  {
   "cell_type": "code",
   "execution_count": 1,
   "metadata": {},
   "outputs": [
    {
     "name": "stdout",
     "output_type": "stream",
     "text": [
      "1.0.39\n"
     ]
    }
   ],
   "source": [
    "# Display the SDK version\n",
    "import azureml.core\n",
    "print(azureml.core.VERSION)"
   ]
  },
  {
   "cell_type": "code",
   "execution_count": 9,
   "metadata": {},
   "outputs": [
    {
     "ename": "WorkspaceException",
     "evalue": "Unable to create the workspace",
     "output_type": "error",
     "traceback": [
      "\u001b[1;31m---------------------------------------------------------------------------\u001b[0m",
      "\u001b[1;31mTypeError\u001b[0m                                 Traceback (most recent call last)",
      "\u001b[1;32mC:\\anaconda3\\envs\\azuremlenv\\lib\\site-packages\\azureml\\_workspace\\custom.py\u001b[0m in \u001b[0;36mml_workspace_create_resources\u001b[1;34m(auth, client, resource_group_name, workspace_name, location, subscription_id, friendly_name, storage_account, key_vault, app_insights, containerRegistry, default_cpu_compute_target, default_gpu_compute_target, exist_ok, show_output)\u001b[0m\n\u001b[0;32m     82\u001b[0m             \u001b[0mappInsights\u001b[0m\u001b[1;33m=\u001b[0m\u001b[0mapp_insights\u001b[0m\u001b[1;33m,\u001b[0m\u001b[1;33m\u001b[0m\u001b[0m\n\u001b[1;32m---> 83\u001b[1;33m             show_output=show_output)\n\u001b[0m\u001b[0;32m     84\u001b[0m         \u001b[0mcreated_workspace\u001b[0m \u001b[1;33m=\u001b[0m \u001b[0mclient\u001b[0m\u001b[1;33m.\u001b[0m\u001b[0mget\u001b[0m\u001b[1;33m(\u001b[0m\u001b[0mresource_group_name\u001b[0m\u001b[1;33m,\u001b[0m \u001b[0mworkspace_name\u001b[0m\u001b[1;33m)\u001b[0m\u001b[1;33m\u001b[0m\u001b[0m\n",
      "\u001b[1;32mC:\\anaconda3\\envs\\azuremlenv\\lib\\site-packages\\azureml\\_workspace\\_utils.py\u001b[0m in \u001b[0;36marm_deploy_template_new_resources\u001b[1;34m(auth, resource_group_name, location, subscription_id, workspace_name, deployment_name, storage, keyVault, containerRegistry, appInsights, show_output)\u001b[0m\n\u001b[0;32m    153\u001b[0m \u001b[1;33m\u001b[0m\u001b[0m\n\u001b[1;32m--> 154\u001b[1;33m     \u001b[0mdeployments_client\u001b[0m \u001b[1;33m=\u001b[0m \u001b[0mauth\u001b[0m\u001b[1;33m.\u001b[0m\u001b[0m_get_service_client\u001b[0m\u001b[1;33m(\u001b[0m\u001b[0mResourceManagementClient\u001b[0m\u001b[1;33m,\u001b[0m \u001b[0msubscription_id\u001b[0m\u001b[1;33m)\u001b[0m\u001b[1;33m.\u001b[0m\u001b[0mdeployments\u001b[0m\u001b[1;33m\u001b[0m\u001b[0m\n\u001b[0m\u001b[0;32m    155\u001b[0m     deployment_operations_client = auth._get_service_client(ResourceManagementClient,\n",
      "\u001b[1;32mC:\\anaconda3\\envs\\azuremlenv\\lib\\site-packages\\azureml\\core\\authentication.py\u001b[0m in \u001b[0;36m_get_service_client\u001b[1;34m(self, client_class, subscription_id, subscription_bound, base_url)\u001b[0m\n\u001b[0;32m    116\u001b[0m                                                    \u001b[0msubscription_bound\u001b[0m\u001b[1;33m=\u001b[0m\u001b[0msubscription_bound\u001b[0m\u001b[1;33m,\u001b[0m\u001b[1;33m\u001b[0m\u001b[0m\n\u001b[1;32m--> 117\u001b[1;33m                                                    base_url=base_url)\n\u001b[0m\u001b[0;32m    118\u001b[0m \u001b[1;33m\u001b[0m\u001b[0m\n",
      "\u001b[1;32mC:\\anaconda3\\envs\\azuremlenv\\lib\\site-packages\\azureml\\core\\authentication.py\u001b[0m in \u001b[0;36m_get_service_client_using_arm_token\u001b[1;34m(auth, client_class, subscription_id, subscription_bound, base_url)\u001b[0m\n\u001b[0;32m   1088\u001b[0m         \u001b[1;31m# converting subscription_id, which is string, to string because of weird python 2.7 errors.\u001b[0m\u001b[1;33m\u001b[0m\u001b[1;33m\u001b[0m\u001b[0m\n\u001b[1;32m-> 1089\u001b[1;33m         \u001b[0mclient\u001b[0m \u001b[1;33m=\u001b[0m \u001b[0mclient_class\u001b[0m\u001b[1;33m(\u001b[0m\u001b[0madal_auth_object\u001b[0m\u001b[1;33m,\u001b[0m \u001b[0mstr\u001b[0m\u001b[1;33m(\u001b[0m\u001b[0msubscription_id\u001b[0m\u001b[1;33m)\u001b[0m\u001b[1;33m)\u001b[0m\u001b[1;33m\u001b[0m\u001b[0m\n\u001b[0m\u001b[0;32m   1090\u001b[0m     \u001b[1;32mreturn\u001b[0m \u001b[0mclient\u001b[0m\u001b[1;33m\u001b[0m\u001b[0m\n",
      "\u001b[1;31mTypeError\u001b[0m: __init__() takes 2 positional arguments but 3 were given",
      "\nDuring handling of the above exception, another exception occurred:\n",
      "\u001b[1;31mWorkspaceException\u001b[0m                        Traceback (most recent call last)",
      "\u001b[1;32m<ipython-input-9-89af1099fa76>\u001b[0m in \u001b[0;36m<module>\u001b[1;34m\u001b[0m\n\u001b[0;32m      5\u001b[0m                      \u001b[0mresource_group\u001b[0m\u001b[1;33m=\u001b[0m\u001b[1;34m'azuremlsdk'\u001b[0m\u001b[1;33m,\u001b[0m\u001b[1;33m\u001b[0m\u001b[0m\n\u001b[0;32m      6\u001b[0m                      \u001b[0mcreate_resource_group\u001b[0m\u001b[1;33m=\u001b[0m\u001b[1;32mFalse\u001b[0m\u001b[1;33m,\u001b[0m\u001b[1;33m\u001b[0m\u001b[0m\n\u001b[1;32m----> 7\u001b[1;33m                      location='eastus2')\n\u001b[0m",
      "\u001b[1;32mC:\\anaconda3\\envs\\azuremlenv\\lib\\site-packages\\azureml\\core\\workspace.py\u001b[0m in \u001b[0;36mcreate\u001b[1;34m(name, auth, subscription_id, resource_group, location, create_resource_group, friendly_name, storage_account, key_vault, app_insights, container_registry, default_cpu_compute_target, default_gpu_compute_target, exist_ok, show_output)\u001b[0m\n\u001b[0;32m    302\u001b[0m                                         \u001b[0mdefault_cpu_compute_target\u001b[0m\u001b[1;33m=\u001b[0m\u001b[0mdefault_cpu_compute_target\u001b[0m\u001b[1;33m,\u001b[0m\u001b[1;33m\u001b[0m\u001b[0m\n\u001b[0;32m    303\u001b[0m                                         \u001b[0mdefault_gpu_compute_target\u001b[0m\u001b[1;33m=\u001b[0m\u001b[0mdefault_gpu_compute_target\u001b[0m\u001b[1;33m,\u001b[0m\u001b[1;33m\u001b[0m\u001b[0m\n\u001b[1;32m--> 304\u001b[1;33m                                         exist_ok=exist_ok, show_output=show_output)\n\u001b[0m\u001b[0;32m    305\u001b[0m \u001b[1;33m\u001b[0m\u001b[0m\n\u001b[0;32m    306\u001b[0m     \u001b[1;33m@\u001b[0m\u001b[0mstaticmethod\u001b[0m\u001b[1;33m\u001b[0m\u001b[0m\n",
      "\u001b[1;32mC:\\anaconda3\\envs\\azuremlenv\\lib\\site-packages\\azureml\\core\\workspace.py\u001b[0m in \u001b[0;36m_create_legacy\u001b[1;34m(auth, subscription_id, resource_group_name, workspace_name, location, create_resource_group, friendly_name, storage_account, key_vault, app_insights, container_registry, default_cpu_compute_target, default_gpu_compute_target, exist_ok, show_output)\u001b[0m\n\u001b[0;32m    884\u001b[0m                                                                \u001b[0mdefault_cpu_compute_target\u001b[0m\u001b[1;33m=\u001b[0m\u001b[0mdefault_cpu_compute_target\u001b[0m\u001b[1;33m,\u001b[0m\u001b[1;33m\u001b[0m\u001b[0m\n\u001b[0;32m    885\u001b[0m                                                                \u001b[0mdefault_gpu_compute_target\u001b[0m\u001b[1;33m=\u001b[0m\u001b[0mdefault_gpu_compute_target\u001b[0m\u001b[1;33m,\u001b[0m\u001b[1;33m\u001b[0m\u001b[0m\n\u001b[1;32m--> 886\u001b[1;33m                                                                exist_ok=exist_ok, show_output=show_output)\n\u001b[0m\u001b[0;32m    887\u001b[0m         \u001b[1;32mif\u001b[0m \u001b[1;32mnot\u001b[0m \u001b[0mworkspace_object_autorest\u001b[0m\u001b[1;33m:\u001b[0m\u001b[1;33m\u001b[0m\u001b[0m\n\u001b[0;32m    888\u001b[0m             \u001b[1;32mraise\u001b[0m \u001b[0mWorkspaceException\u001b[0m\u001b[1;33m(\u001b[0m\u001b[1;34m\"Couldn't create the workspace.\"\u001b[0m\u001b[1;33m)\u001b[0m\u001b[1;33m\u001b[0m\u001b[0m\n",
      "\u001b[1;32mC:\\anaconda3\\envs\\azuremlenv\\lib\\site-packages\\azureml\\_project\\_commands.py\u001b[0m in \u001b[0;36mcreate_workspace\u001b[1;34m(auth, resource_group_name, workspace_name, subscription_id, location, create_resource_group, friendly_name, storage_account, key_vault, app_insights, containerRegistry, default_cpu_compute_target, default_gpu_compute_target, exist_ok, show_output)\u001b[0m\n\u001b[0;32m    299\u001b[0m         \u001b[0mdefault_gpu_compute_target\u001b[0m\u001b[1;33m=\u001b[0m\u001b[0mdefault_gpu_compute_target\u001b[0m\u001b[1;33m,\u001b[0m\u001b[1;33m\u001b[0m\u001b[0m\n\u001b[0;32m    300\u001b[0m         \u001b[0mexist_ok\u001b[0m\u001b[1;33m=\u001b[0m\u001b[0mexist_ok\u001b[0m\u001b[1;33m,\u001b[0m\u001b[1;33m\u001b[0m\u001b[0m\n\u001b[1;32m--> 301\u001b[1;33m         show_output=show_output)\n\u001b[0m\u001b[0;32m    302\u001b[0m \u001b[1;33m\u001b[0m\u001b[0m\n\u001b[0;32m    303\u001b[0m \u001b[1;33m\u001b[0m\u001b[0m\n",
      "\u001b[1;32mC:\\anaconda3\\envs\\azuremlenv\\lib\\site-packages\\azureml\\_workspace\\custom.py\u001b[0m in \u001b[0;36mml_workspace_create_resources\u001b[1;34m(auth, client, resource_group_name, workspace_name, location, subscription_id, friendly_name, storage_account, key_vault, app_insights, containerRegistry, default_cpu_compute_target, default_gpu_compute_target, exist_ok, show_output)\u001b[0m\n\u001b[0;32m    154\u001b[0m             \u001b[1;31m# Catching any exception if workspace deletion fails.\u001b[0m\u001b[1;33m\u001b[0m\u001b[1;33m\u001b[0m\u001b[0m\n\u001b[0;32m    155\u001b[0m             \u001b[1;32mpass\u001b[0m\u001b[1;33m\u001b[0m\u001b[0m\n\u001b[1;32m--> 156\u001b[1;33m         \u001b[1;32mraise\u001b[0m \u001b[0mWorkspaceException\u001b[0m\u001b[1;33m(\u001b[0m\u001b[1;34m\"Unable to create the workspace\"\u001b[0m\u001b[1;33m)\u001b[0m\u001b[1;33m\u001b[0m\u001b[0m\n\u001b[0m\u001b[0;32m    157\u001b[0m \u001b[1;33m\u001b[0m\u001b[0m\n\u001b[0;32m    158\u001b[0m \u001b[1;33m\u001b[0m\u001b[0m\n",
      "\u001b[1;31mWorkspaceException\u001b[0m: Unable to create the workspace"
     ]
    }
   ],
   "source": [
    "# Create workspace\n",
    "from azureml.core import Workspace\n",
    "ws = Workspace.create(name='tchaworkspace1',\n",
    "                     subscription_id='ec66db2f-f96c-4562-8328-55bfb1eac137',\n",
    "                     resource_group='azuremlsdk',\n",
    "                     create_resource_group=False,\n",
    "                     location='eastus2')"
   ]
  },
  {
   "cell_type": "code",
   "execution_count": null,
   "metadata": {},
   "outputs": [],
   "source": [
    "# to view workspace detail\n",
    "ws.get_details()"
   ]
  },
  {
   "cell_type": "code",
   "execution_count": null,
   "metadata": {},
   "outputs": [],
   "source": [
    "# Create the configuration file\n",
    "# This function creates the config file in the current directory.\n",
    "ws.write_config()\n",
    "\n",
    "# Use this code to load the workspace from other scripts and notebooks in this directory\n",
    "#ws = Workspace.from_config()"
   ]
  }
 ],
 "metadata": {
  "kernelspec": {
   "display_name": "Python 3",
   "language": "python",
   "name": "python3"
  },
  "language_info": {
   "codemirror_mode": {
    "name": "ipython",
    "version": 3
   },
   "file_extension": ".py",
   "mimetype": "text/x-python",
   "name": "python",
   "nbconvert_exporter": "python",
   "pygments_lexer": "ipython3",
   "version": "3.6.5"
  }
 },
 "nbformat": 4,
 "nbformat_minor": 2
}

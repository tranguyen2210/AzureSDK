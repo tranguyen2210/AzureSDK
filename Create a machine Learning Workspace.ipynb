{
 "cells": [
  {
   "cell_type": "markdown",
   "metadata": {},
   "source": [
    "###### Create a workspace by using Python SDK. Skip the installation of SDK if you use an Azure Data Science Virtual Machine"
   ]
  },
  {
   "cell_type": "markdown",
   "metadata": {},
   "source": [
    "### What is Workspace?\n",
    "#### A workspace is the top-level resource for the Azure Machine Learning service. It serves as a hub for building and deploying models. You can create a workspace in the Azure portal, or you can create and access it by using Python on an IDE of your choice\n",
    "\n",
    "#### All models must be registered in the workspace for future use. Together with the scoring script, you create an image for deployment."
   ]
  },
  {
   "cell_type": "code",
   "execution_count": null,
   "metadata": {},
   "outputs": [],
   "source": [
    "# Display the SDK version\n",
    "import azureml.core\n",
    "print(azureml.core.VERSION)"
   ]
  },
  {
   "cell_type": "code",
   "execution_count": null,
   "metadata": {},
   "outputs": [],
   "source": [
    "print(python.version())"
   ]
  },
  {
   "cell_type": "code",
   "execution_count": null,
   "metadata": {},
   "outputs": [],
   "source": [
    "# Create workspace\n",
    "from azureml.core import Workspace\n",
    "ws = Workspace.create(name='tchaworkspace1',\n",
    "                     subscription_id='ec66db2f-f96c-4562-8328-55bfb1eac137',\n",
    "                     resource_group='azuremlsdk',\n",
    "                     create_resource_group=True,\n",
    "                     location='eastus2')"
   ]
  },
  {
   "cell_type": "code",
   "execution_count": null,
   "metadata": {},
   "outputs": [],
   "source": [
    "# to view workspace detail\n",
    "ws.get_details()"
   ]
  },
  {
   "cell_type": "code",
   "execution_count": null,
   "metadata": {},
   "outputs": [],
   "source": [
    "# Create the configuration file\n",
    "# This function creates the config file in the current directory.\n",
    "\n",
    "ws.write_config()\n",
    "# Use this code to load the workspace from other scripts and notebooks in this directory\n",
    "ws = Workspace.from_config()"
   ]
  }
 ],
 "metadata": {
  "kernelspec": {
   "display_name": "Python 3",
   "language": "python",
   "name": "python3"
  }
 },
 "nbformat": 4,
 "nbformat_minor": 2
}
